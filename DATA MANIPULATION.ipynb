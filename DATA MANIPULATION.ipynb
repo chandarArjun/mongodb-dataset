{
 "cells": [
  {
   "cell_type": "code",
   "execution_count": 2,
   "id": "b48c6ddb",
   "metadata": {},
   "outputs": [],
   "source": [
    "import pandas as pd\n",
    "import pymongo"
   ]
  },
  {
   "cell_type": "code",
   "execution_count": 3,
   "id": "010c2bcb",
   "metadata": {},
   "outputs": [],
   "source": [
    "df = pd.read_csv('Marks.csv')"
   ]
  },
  {
   "cell_type": "code",
   "execution_count": 41,
   "id": "6d493208",
   "metadata": {},
   "outputs": [
    {
     "data": {
      "text/html": [
       "<div>\n",
       "<style scoped>\n",
       "    .dataframe tbody tr th:only-of-type {\n",
       "        vertical-align: middle;\n",
       "    }\n",
       "\n",
       "    .dataframe tbody tr th {\n",
       "        vertical-align: top;\n",
       "    }\n",
       "\n",
       "    .dataframe thead th {\n",
       "        text-align: right;\n",
       "    }\n",
       "</style>\n",
       "<table border=\"1\" class=\"dataframe\">\n",
       "  <thead>\n",
       "    <tr style=\"text-align: right;\">\n",
       "      <th></th>\n",
       "      <th>student id</th>\n",
       "      <th>Name</th>\n",
       "      <th>Exam</th>\n",
       "      <th>Quiz</th>\n",
       "      <th>Homework</th>\n",
       "    </tr>\n",
       "  </thead>\n",
       "  <tbody>\n",
       "    <tr>\n",
       "      <th>0</th>\n",
       "      <td>1</td>\n",
       "      <td>aimee Zank</td>\n",
       "      <td>1.463180</td>\n",
       "      <td>11.782733</td>\n",
       "      <td>35.874035</td>\n",
       "    </tr>\n",
       "    <tr>\n",
       "      <th>1</th>\n",
       "      <td>2</td>\n",
       "      <td>Aurelia Menendez</td>\n",
       "      <td>60.060451</td>\n",
       "      <td>52.797907</td>\n",
       "      <td>71.761334</td>\n",
       "    </tr>\n",
       "    <tr>\n",
       "      <th>2</th>\n",
       "      <td>3</td>\n",
       "      <td>Corliss Zuk</td>\n",
       "      <td>67.030771</td>\n",
       "      <td>6.301852</td>\n",
       "      <td>66.283447</td>\n",
       "    </tr>\n",
       "    <tr>\n",
       "      <th>3</th>\n",
       "      <td>4</td>\n",
       "      <td>Bao Ziglar</td>\n",
       "      <td>71.643439</td>\n",
       "      <td>24.802213</td>\n",
       "      <td>42.261471</td>\n",
       "    </tr>\n",
       "    <tr>\n",
       "      <th>4</th>\n",
       "      <td>5</td>\n",
       "      <td>Zachary Langlais</td>\n",
       "      <td>78.683851</td>\n",
       "      <td>90.296310</td>\n",
       "      <td>34.416201</td>\n",
       "    </tr>\n",
       "  </tbody>\n",
       "</table>\n",
       "</div>"
      ],
      "text/plain": [
       "   student id              Name       Exam       Quiz   Homework\n",
       "0           1        aimee Zank   1.463180  11.782733  35.874035\n",
       "1           2  Aurelia Menendez  60.060451  52.797907  71.761334\n",
       "2           3       Corliss Zuk  67.030771   6.301852  66.283447\n",
       "3           4        Bao Ziglar  71.643439  24.802213  42.261471\n",
       "4           5  Zachary Langlais  78.683851  90.296310  34.416201"
      ]
     },
     "execution_count": 41,
     "metadata": {},
     "output_type": "execute_result"
    }
   ],
   "source": [
    "df.head()"
   ]
  },
  {
   "cell_type": "code",
   "execution_count": 4,
   "id": "c0d86aab",
   "metadata": {},
   "outputs": [
    {
     "data": {
      "text/html": [
       "<div>\n",
       "<style scoped>\n",
       "    .dataframe tbody tr th:only-of-type {\n",
       "        vertical-align: middle;\n",
       "    }\n",
       "\n",
       "    .dataframe tbody tr th {\n",
       "        vertical-align: top;\n",
       "    }\n",
       "\n",
       "    .dataframe thead th {\n",
       "        text-align: right;\n",
       "    }\n",
       "</style>\n",
       "<table border=\"1\" class=\"dataframe\">\n",
       "  <thead>\n",
       "    <tr style=\"text-align: right;\">\n",
       "      <th></th>\n",
       "      <th>student id</th>\n",
       "      <th>Name</th>\n",
       "      <th>Exam</th>\n",
       "      <th>Quiz</th>\n",
       "      <th>Homework</th>\n",
       "    </tr>\n",
       "  </thead>\n",
       "  <tbody>\n",
       "    <tr>\n",
       "      <th>195</th>\n",
       "      <td>195</td>\n",
       "      <td>Linnie Weigel</td>\n",
       "      <td>52.445784</td>\n",
       "      <td>90.777505</td>\n",
       "      <td>11.750084</td>\n",
       "    </tr>\n",
       "    <tr>\n",
       "      <th>196</th>\n",
       "      <td>196</td>\n",
       "      <td>Santiago Dollins</td>\n",
       "      <td>52.040526</td>\n",
       "      <td>33.633001</td>\n",
       "      <td>78.792574</td>\n",
       "    </tr>\n",
       "    <tr>\n",
       "      <th>197</th>\n",
       "      <td>197</td>\n",
       "      <td>Tonisha Games</td>\n",
       "      <td>38.512696</td>\n",
       "      <td>31.162876</td>\n",
       "      <td>79.158564</td>\n",
       "    </tr>\n",
       "    <tr>\n",
       "      <th>198</th>\n",
       "      <td>198</td>\n",
       "      <td>Timothy Harrod</td>\n",
       "      <td>11.907567</td>\n",
       "      <td>20.518800</td>\n",
       "      <td>64.856504</td>\n",
       "    </tr>\n",
       "    <tr>\n",
       "      <th>199</th>\n",
       "      <td>199</td>\n",
       "      <td>Rae Kohout</td>\n",
       "      <td>82.117426</td>\n",
       "      <td>49.612955</td>\n",
       "      <td>28.868237</td>\n",
       "    </tr>\n",
       "  </tbody>\n",
       "</table>\n",
       "</div>"
      ],
      "text/plain": [
       "     student id              Name       Exam       Quiz   Homework\n",
       "195         195     Linnie Weigel  52.445784  90.777505  11.750084\n",
       "196         196  Santiago Dollins  52.040526  33.633001  78.792574\n",
       "197         197     Tonisha Games  38.512696  31.162876  79.158564\n",
       "198         198    Timothy Harrod  11.907567  20.518800  64.856504\n",
       "199         199        Rae Kohout  82.117426  49.612955  28.868237"
      ]
     },
     "execution_count": 4,
     "metadata": {},
     "output_type": "execute_result"
    }
   ],
   "source": [
    "df.tail()"
   ]
  },
  {
   "cell_type": "code",
   "execution_count": 5,
   "id": "6c384024",
   "metadata": {},
   "outputs": [
    {
     "name": "stdout",
     "output_type": "stream",
     "text": [
      "<class 'pandas.core.frame.DataFrame'>\n",
      "RangeIndex: 200 entries, 0 to 199\n",
      "Data columns (total 5 columns):\n",
      " #   Column      Non-Null Count  Dtype  \n",
      "---  ------      --------------  -----  \n",
      " 0   student id  200 non-null    int64  \n",
      " 1   Name        199 non-null    object \n",
      " 2   Exam        200 non-null    float64\n",
      " 3   Quiz        200 non-null    float64\n",
      " 4   Homework    200 non-null    float64\n",
      "dtypes: float64(3), int64(1), object(1)\n",
      "memory usage: 7.9+ KB\n"
     ]
    }
   ],
   "source": [
    "df.info()"
   ]
  },
  {
   "cell_type": "code",
   "execution_count": 6,
   "id": "d2668291",
   "metadata": {},
   "outputs": [
    {
     "data": {
      "text/plain": [
       "student id      int64\n",
       "Name           object\n",
       "Exam          float64\n",
       "Quiz          float64\n",
       "Homework      float64\n",
       "dtype: object"
      ]
     },
     "execution_count": 6,
     "metadata": {},
     "output_type": "execute_result"
    }
   ],
   "source": [
    "df.dtypes"
   ]
  },
  {
   "cell_type": "code",
   "execution_count": 7,
   "id": "5bd8ae88",
   "metadata": {},
   "outputs": [
    {
     "data": {
      "text/plain": [
       "Index(['student id', 'Name', 'Exam', 'Quiz', 'Homework'], dtype='object')"
      ]
     },
     "execution_count": 7,
     "metadata": {},
     "output_type": "execute_result"
    }
   ],
   "source": [
    "df.columns"
   ]
  },
  {
   "cell_type": "code",
   "execution_count": 8,
   "id": "6742ed60",
   "metadata": {},
   "outputs": [
    {
     "data": {
      "text/html": [
       "<div>\n",
       "<style scoped>\n",
       "    .dataframe tbody tr th:only-of-type {\n",
       "        vertical-align: middle;\n",
       "    }\n",
       "\n",
       "    .dataframe tbody tr th {\n",
       "        vertical-align: top;\n",
       "    }\n",
       "\n",
       "    .dataframe thead th {\n",
       "        text-align: right;\n",
       "    }\n",
       "</style>\n",
       "<table border=\"1\" class=\"dataframe\">\n",
       "  <thead>\n",
       "    <tr style=\"text-align: right;\">\n",
       "      <th></th>\n",
       "      <th>student id</th>\n",
       "      <th>Exam</th>\n",
       "      <th>Quiz</th>\n",
       "      <th>Homework</th>\n",
       "    </tr>\n",
       "  </thead>\n",
       "  <tbody>\n",
       "    <tr>\n",
       "      <th>count</th>\n",
       "      <td>200.000000</td>\n",
       "      <td>200.000000</td>\n",
       "      <td>200.000000</td>\n",
       "      <td>200.000000</td>\n",
       "    </tr>\n",
       "    <tr>\n",
       "      <th>mean</th>\n",
       "      <td>100.000000</td>\n",
       "      <td>48.673671</td>\n",
       "      <td>48.996723</td>\n",
       "      <td>67.818696</td>\n",
       "    </tr>\n",
       "    <tr>\n",
       "      <th>std</th>\n",
       "      <td>57.445626</td>\n",
       "      <td>28.494072</td>\n",
       "      <td>31.246695</td>\n",
       "      <td>22.465717</td>\n",
       "    </tr>\n",
       "    <tr>\n",
       "      <th>min</th>\n",
       "      <td>1.000000</td>\n",
       "      <td>0.043811</td>\n",
       "      <td>0.006247</td>\n",
       "      <td>11.750084</td>\n",
       "    </tr>\n",
       "    <tr>\n",
       "      <th>25%</th>\n",
       "      <td>50.750000</td>\n",
       "      <td>23.050956</td>\n",
       "      <td>22.197422</td>\n",
       "      <td>54.397653</td>\n",
       "    </tr>\n",
       "    <tr>\n",
       "      <th>50%</th>\n",
       "      <td>100.000000</td>\n",
       "      <td>45.941638</td>\n",
       "      <td>45.362527</td>\n",
       "      <td>71.883264</td>\n",
       "    </tr>\n",
       "    <tr>\n",
       "      <th>75%</th>\n",
       "      <td>149.250000</td>\n",
       "      <td>73.081578</td>\n",
       "      <td>79.474781</td>\n",
       "      <td>87.144048</td>\n",
       "    </tr>\n",
       "    <tr>\n",
       "      <th>max</th>\n",
       "      <td>199.000000</td>\n",
       "      <td>99.336858</td>\n",
       "      <td>99.803482</td>\n",
       "      <td>99.772377</td>\n",
       "    </tr>\n",
       "  </tbody>\n",
       "</table>\n",
       "</div>"
      ],
      "text/plain": [
       "       student id        Exam        Quiz    Homework\n",
       "count  200.000000  200.000000  200.000000  200.000000\n",
       "mean   100.000000   48.673671   48.996723   67.818696\n",
       "std     57.445626   28.494072   31.246695   22.465717\n",
       "min      1.000000    0.043811    0.006247   11.750084\n",
       "25%     50.750000   23.050956   22.197422   54.397653\n",
       "50%    100.000000   45.941638   45.362527   71.883264\n",
       "75%    149.250000   73.081578   79.474781   87.144048\n",
       "max    199.000000   99.336858   99.803482   99.772377"
      ]
     },
     "execution_count": 8,
     "metadata": {},
     "output_type": "execute_result"
    }
   ],
   "source": [
    "df.describe()"
   ]
  },
  {
   "cell_type": "code",
   "execution_count": 9,
   "id": "c9c85344",
   "metadata": {},
   "outputs": [
    {
     "data": {
      "text/plain": [
       "(200, 5)"
      ]
     },
     "execution_count": 9,
     "metadata": {},
     "output_type": "execute_result"
    }
   ],
   "source": [
    "df.shape"
   ]
  },
  {
   "cell_type": "code",
   "execution_count": 10,
   "id": "dd0d46f1",
   "metadata": {},
   "outputs": [
    {
     "data": {
      "text/plain": [
       "0      11.782733\n",
       "1      52.797907\n",
       "2       6.301852\n",
       "3      24.802213\n",
       "4      90.296310\n",
       "         ...    \n",
       "195    90.777505\n",
       "196    33.633001\n",
       "197    31.162876\n",
       "198    20.518800\n",
       "199    49.612955\n",
       "Name: Quiz, Length: 200, dtype: float64"
      ]
     },
     "execution_count": 10,
     "metadata": {},
     "output_type": "execute_result"
    }
   ],
   "source": [
    "df['Quiz']"
   ]
  },
  {
   "cell_type": "code",
   "execution_count": 11,
   "id": "d947e42f",
   "metadata": {},
   "outputs": [
    {
     "data": {
      "text/plain": [
       "11.782733    1\n",
       "65.503138    1\n",
       "95.675637    1\n",
       "14.981124    1\n",
       "47.647767    1\n",
       "            ..\n",
       "99.803482    1\n",
       "96.052286    1\n",
       "5.247411     1\n",
       "32.660222    1\n",
       "49.612955    1\n",
       "Name: Quiz, Length: 200, dtype: int64"
      ]
     },
     "execution_count": 11,
     "metadata": {},
     "output_type": "execute_result"
    }
   ],
   "source": [
    "df['Quiz'].value_counts()"
   ]
  },
  {
   "cell_type": "code",
   "execution_count": 14,
   "id": "c9cd87bc",
   "metadata": {},
   "outputs": [
    {
     "data": {
      "text/plain": [
       "113"
      ]
     },
     "execution_count": 14,
     "metadata": {},
     "output_type": "execute_result"
    }
   ],
   "source": [
    "df_group_by = df.groupby(\"Name\")\n",
    "df_group_by.ngroups"
   ]
  },
  {
   "cell_type": "code",
   "execution_count": 15,
   "id": "7da8e142",
   "metadata": {},
   "outputs": [
    {
     "data": {
      "text/plain": [
       "{'Adrien Renda': [76, 190], 'Aleida Elsass': [41, 155], 'Alica Pasley': [50, 164], 'Alix Sherrill': [14, 128], 'Aurelia Menendez': [1, 115], 'Bao Ziglar': [3, 117], 'Barbera Lippman': [48, 162], 'Beckie Millington': [107], 'Brain Lachapelle': [86], 'Brittny Warwick': [104], 'Carli Belvins': [34, 148], 'Carli Ector': [98], 'Cassi Heal': [89], 'Chad Rahe': [57, 171], 'Cody Strouth': [69, 183], 'Corliss Zuk': [2, 116], 'Danika Loeffler': [56, 170], 'Daphne Zheng': [8, 122], 'Darby Wass': [94], 'Demarcus Audette': [100], 'Denisha Cast': [10, 124], 'Devorah Smartt': [73, 187], 'Dinah Sauve': [49, 163], 'Dodie Staller': [16, 130], 'Dusti Lemmond': [60, 174], 'Echo Pippins': [80, 194], 'Edgar Sarkis': [27, 141], 'Efrain Claw': [77, 191], 'Elizabet Kleine': [51, 165], 'Ernestine Macfarland': [43, 157], 'Eugene Magdaleno': [36, 150], 'Fleta Duplantis': [103], 'Fletcher Mcconnell': [17, 131], 'Flora Duell': [109], 'Gena Riccio': [65, 179], 'Gennie Ratner': [111], 'Gisela Levin': [19, 133], 'Grady Zemke': [61, 175], 'Gwen Honig': [32, 146], 'Gwyneth Garling': [29, 143], 'Harriett Velarde': [70, 184], 'Houston Valenti': [44, 158], 'Jaclyn Morado': [99], 'Jenette Flanders': [6, 120], 'Jenise Mcguffie': [68, 182], 'Jessika Dagenais': [13, 127], 'Jesusa Rickenbacker': [24, 138], 'Joaquina Arbuckle': [58, 172], 'Joel Rueter': [54, 168], 'Jonie Raby': [26, 140], 'Kaila Deibler': [30, 144], 'Kam Senters': [71, 185], 'Karry Petrarca': [106], 'Kayce Kenyon': [42, 156], 'Keesha Papadopoulos': [88], 'Kim Xu': [66, 180], 'Kurtis Jiles': [47, 161], 'Lady Lefevers': [46, 160], 'Laureen Salomone': [28, 142], 'Len Treiber': [78, 192], 'Leola Lundin': [74, 188], 'Leonida Lafond': [72, 186], 'Linnie Weigel': [81, 195], 'Lucinda Vanderburg': [93], 'Malisa Jeanes': [53, 167], 'Marcus Blohm': [11, 125], 'Maren Scheider': [97], 'Margart Vitello': [22, 136], 'Mariela Sherer': [79, 193], 'Mariette Batdorf': [39, 153], 'Meagan Oakes': [37, 151], 'Mercedez Garduno': [102], 'Merissa Mann': [67, 181], 'Mikaela Meidinger': [108], 'Milan Mcgavock': [96], 'Myrtle Wolfinger': [112], 'Nobuko Linzey': [110], 'Omar Bowdoin': [95], 'Osvaldo Hirt': [90], 'Quincy Danaher': [12, 126], 'Rachell Aman': [40, 154], 'Rae Kohout': [85, 199], 'Richelle Siemers': [38, 152], 'Rosana Vales': [21, 135], 'Rubie Winton': [63, 177], 'Rudolph Domingo': [25, 139], 'Sadie Jernigan': [33, 147], 'Salena Olmos': [7, 121], 'Sanda Ryba': [9, 123], 'Santiago Dollins': [82, 196], 'Shin Allbright': [105], 'Synthia Labelle': [35, 149], 'Ta Sikorski': [92], 'Tambra Mercure': [15, 129], 'Tamika Schildgen': [23, 137], 'Tandra Meadows': [31, 145], 'Tania Hulett': [101], 'Tawana Oberg': [52, 166], 'Terica Brugger': [45, 159], 'Timothy Harrod': [84, 198], ...}"
      ]
     },
     "execution_count": 15,
     "metadata": {},
     "output_type": "execute_result"
    }
   ],
   "source": [
    "df_group_by.groups"
   ]
  },
  {
   "cell_type": "code",
   "execution_count": 17,
   "id": "4efe57d6",
   "metadata": {},
   "outputs": [
    {
     "data": {
      "text/plain": [
       "Name\n",
       "Adrien Renda        2\n",
       "Aleida Elsass       2\n",
       "Alica Pasley        2\n",
       "Alix Sherrill       2\n",
       "Aurelia Menendez    2\n",
       "                   ..\n",
       "Vinnie Auerbach     2\n",
       "Whitley Fears       2\n",
       "Wilburn Spiess      2\n",
       "Zachary Langlais    2\n",
       "aimee Zank          2\n",
       "Length: 113, dtype: int64"
      ]
     },
     "execution_count": 17,
     "metadata": {},
     "output_type": "execute_result"
    }
   ],
   "source": [
    "df_group_by.size()"
   ]
  },
  {
   "cell_type": "code",
   "execution_count": 18,
   "id": "e9757bb1",
   "metadata": {},
   "outputs": [
    {
     "data": {
      "text/html": [
       "<div>\n",
       "<style scoped>\n",
       "    .dataframe tbody tr th:only-of-type {\n",
       "        vertical-align: middle;\n",
       "    }\n",
       "\n",
       "    .dataframe tbody tr th {\n",
       "        vertical-align: top;\n",
       "    }\n",
       "\n",
       "    .dataframe thead th {\n",
       "        text-align: right;\n",
       "    }\n",
       "</style>\n",
       "<table border=\"1\" class=\"dataframe\">\n",
       "  <thead>\n",
       "    <tr style=\"text-align: right;\">\n",
       "      <th></th>\n",
       "      <th>student id</th>\n",
       "      <th>Exam</th>\n",
       "      <th>Quiz</th>\n",
       "      <th>Homework</th>\n",
       "    </tr>\n",
       "    <tr>\n",
       "      <th>Name</th>\n",
       "      <th></th>\n",
       "      <th></th>\n",
       "      <th></th>\n",
       "      <th></th>\n",
       "    </tr>\n",
       "  </thead>\n",
       "  <tbody>\n",
       "    <tr>\n",
       "      <th>Adrien Renda</th>\n",
       "      <td>77</td>\n",
       "      <td>57.247949</td>\n",
       "      <td>19.511823</td>\n",
       "      <td>70.710434</td>\n",
       "    </tr>\n",
       "    <tr>\n",
       "      <th>Aleida Elsass</th>\n",
       "      <td>42</td>\n",
       "      <td>28.025180</td>\n",
       "      <td>95.252431</td>\n",
       "      <td>68.059804</td>\n",
       "    </tr>\n",
       "    <tr>\n",
       "      <th>Alica Pasley</th>\n",
       "      <td>51</td>\n",
       "      <td>19.385447</td>\n",
       "      <td>88.707527</td>\n",
       "      <td>60.627552</td>\n",
       "    </tr>\n",
       "    <tr>\n",
       "      <th>Alix Sherrill</th>\n",
       "      <td>15</td>\n",
       "      <td>25.159242</td>\n",
       "      <td>68.644840</td>\n",
       "      <td>24.684622</td>\n",
       "    </tr>\n",
       "    <tr>\n",
       "      <th>Aurelia Menendez</th>\n",
       "      <td>2</td>\n",
       "      <td>60.060451</td>\n",
       "      <td>52.797907</td>\n",
       "      <td>71.761334</td>\n",
       "    </tr>\n",
       "    <tr>\n",
       "      <th>...</th>\n",
       "      <td>...</td>\n",
       "      <td>...</td>\n",
       "      <td>...</td>\n",
       "      <td>...</td>\n",
       "    </tr>\n",
       "    <tr>\n",
       "      <th>Vinnie Auerbach</th>\n",
       "      <td>60</td>\n",
       "      <td>95.455083</td>\n",
       "      <td>7.512188</td>\n",
       "      <td>28.590575</td>\n",
       "    </tr>\n",
       "    <tr>\n",
       "      <th>Whitley Fears</th>\n",
       "      <td>65</td>\n",
       "      <td>89.618458</td>\n",
       "      <td>82.448792</td>\n",
       "      <td>96.579121</td>\n",
       "    </tr>\n",
       "    <tr>\n",
       "      <th>Wilburn Spiess</th>\n",
       "      <td>6</td>\n",
       "      <td>44.871863</td>\n",
       "      <td>25.723951</td>\n",
       "      <td>63.422883</td>\n",
       "    </tr>\n",
       "    <tr>\n",
       "      <th>Zachary Langlais</th>\n",
       "      <td>5</td>\n",
       "      <td>78.683851</td>\n",
       "      <td>90.296310</td>\n",
       "      <td>34.416201</td>\n",
       "    </tr>\n",
       "    <tr>\n",
       "      <th>aimee Zank</th>\n",
       "      <td>1</td>\n",
       "      <td>1.463180</td>\n",
       "      <td>11.782733</td>\n",
       "      <td>35.874035</td>\n",
       "    </tr>\n",
       "  </tbody>\n",
       "</table>\n",
       "<p>113 rows × 4 columns</p>\n",
       "</div>"
      ],
      "text/plain": [
       "                  student id       Exam       Quiz   Homework\n",
       "Name                                                         \n",
       "Adrien Renda              77  57.247949  19.511823  70.710434\n",
       "Aleida Elsass             42  28.025180  95.252431  68.059804\n",
       "Alica Pasley              51  19.385447  88.707527  60.627552\n",
       "Alix Sherrill             15  25.159242  68.644840  24.684622\n",
       "Aurelia Menendez           2  60.060451  52.797907  71.761334\n",
       "...                      ...        ...        ...        ...\n",
       "Vinnie Auerbach           60  95.455083   7.512188  28.590575\n",
       "Whitley Fears             65  89.618458  82.448792  96.579121\n",
       "Wilburn Spiess             6  44.871863  25.723951  63.422883\n",
       "Zachary Langlais           5  78.683851  90.296310  34.416201\n",
       "aimee Zank                 1   1.463180  11.782733  35.874035\n",
       "\n",
       "[113 rows x 4 columns]"
      ]
     },
     "execution_count": 18,
     "metadata": {},
     "output_type": "execute_result"
    }
   ],
   "source": [
    "df_group_by.first()"
   ]
  },
  {
   "cell_type": "code",
   "execution_count": 1,
   "id": "8d36f965",
   "metadata": {},
   "outputs": [
    {
     "data": {
      "text/plain": [
       "{'_id': {'$oid': '622b0dc6d4d2028de2dafe27'},\n",
       " 'student id': '14',\n",
       " 'Name': 'Jessika Dagenais',\n",
       " 'Exam': 90.47179954,\n",
       " 'Quiz': 90.30014025,\n",
       " 'Homework': 95.17753772,\n",
       " 'Total': 275.9494775}"
      ]
     },
     "execution_count": 1,
     "metadata": {},
     "output_type": "execute_result"
    }
   ],
   "source": [
    "#higheshest mark \n",
    "{\"_id\":{\"$oid\":\"622b0dc6d4d2028de2dafe27\"},\"student id\":\"14\",\"Name\":\"Jessika Dagenais\",\"Exam\":90.47179954,\"Quiz\":90.30014025,\"Homework\":95.17753772,\"Total\":275.9494775}"
   ]
  },
  {
   "cell_type": "code",
   "execution_count": null,
   "id": "ef0411f1",
   "metadata": {},
   "outputs": [],
   "source": []
  }
 ],
 "metadata": {
  "kernelspec": {
   "display_name": "Python 3 (ipykernel)",
   "language": "python",
   "name": "python3"
  },
  "language_info": {
   "codemirror_mode": {
    "name": "ipython",
    "version": 3
   },
   "file_extension": ".py",
   "mimetype": "text/x-python",
   "name": "python",
   "nbconvert_exporter": "python",
   "pygments_lexer": "ipython3",
   "version": "3.7.6"
  }
 },
 "nbformat": 4,
 "nbformat_minor": 5
}
